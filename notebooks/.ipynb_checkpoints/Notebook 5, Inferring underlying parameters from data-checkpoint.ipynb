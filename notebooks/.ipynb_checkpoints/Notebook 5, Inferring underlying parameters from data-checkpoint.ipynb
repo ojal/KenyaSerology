{
 "cells": [
  {
   "cell_type": "markdown",
   "metadata": {},
   "source": [
    "# Notebook 5: Inferring underlying parameters from data\n",
    "\n",
    "In notebook 4 we investigated the connection between the underlying transmission process model and observable events. \n",
    "However, we used posterior mean estimates for the unknown parameters of the model. In this notebook, we look at how the posterior distributions for the parameters were generated. In this notebook we cover:\n",
    "\n",
    "* The `CoVAreaModel` struct, this is the object that we use to contain available data for the county, and the log-likelihood model.\n",
    "* Defining the parameters of the model using the `TransformVariables` package.\n",
    "* Finding a good initialisation of the inference method.\n",
    "* Running the inference method (Hamiltonian MCMC), and adding the results to the `CoVAreaModel` struct.\n",
    "\n"
   ]
  },
  {
   "cell_type": "code",
   "execution_count": null,
   "metadata": {},
   "outputs": [],
   "source": [
    "cd(joinpath(homedir(),\"GitHub/KenyaSerology/\")) #Sets the working directory to the /KenyaSerology directory\n",
    "push!(LOAD_PATH, joinpath(homedir(),\"GitHub/KenyaSerology/src\")) #Adds the source code directory for KenyaSerology to the LOAD_PATH global variable\n",
    "\n",
    "using JLD2,Plots,Dates\n",
    "using Distributions,TransformVariables,LogDensityProblems #These packages define some useful methods\n",
    "\n",
    "import KenyaSerology\n",
    "\n",
    "#Load data\n",
    "@load(\"data/projected_contact_data_10082020.jld2\")\n",
    "@load(\"data/case_data_by_area_21feb_to_6aug.jld2\");\n",
    "@load(\"data/serologydata_21feb_6aug.jld2\");\n",
    "@load(\"data/death_data_by_area_21feb_to_6aug.jld2\"); \n",
    "\n",
    "transmission_prob = KenyaSerology.make_odeproblemforinference(projected_contactrate_nairobi,#Method for defining the ODE problem underlying the inference\n",
    "                                                                                        startdate = Date(2020,2,21),#Don't change from Feb 21st as start date!\n",
    "                                                                                        enddate = Date(2020,8,6)) #Solve until the end of the inference period"
   ]
  },
  {
   "cell_type": "code",
   "execution_count": null,
   "metadata": {},
   "outputs": [],
   "source": [
    "lwr_name = String([lowercase(s) for s in areaname])\n",
    "        upr_name = String([uppercase(s) for s in areaname])\n",
    "        cases = vec(case_data.cases[:,case_data.areas .== upr_name])\n",
    "        sero = zeros(size(matchedserodata[:,1,:]))\n",
    "        if sum(sero_data.areas.==lwr_name) > 0\n",
    "           sero =  Matrix(matchedserodata[:,sero_data.areas.==lwr_name,:][:,1,:])\n",
    "        end\n",
    "\n",
    "        return KenyaSerology.CoVAreaModel(areaname = areaname,\n",
    "                                        PCR_cases = cases,\n",
    "                                        sero_cases = sero,\n",
    "                                        dates = case_data.dates,\n",
    "                                        N = popsize,\n",
    "                                        γ = 1/(5.5 - 3.1),\n",
    "                                        contactrate_data = projected_contactrate_kenya,\n",
    "                                        prob = KenyaSerology.make_odeproblemforinference(projected_contactrate_mombasa,\n",
    "                                                                                                startdate = Date(2020,2,21),\n",
    "                                                                                                enddate = Date(2020,8,6)),\n",
    "                                        sero_array = rel_sero_array_26days,\n",
    "                                        log_priors = logprior,\n",
    "                                        log_likelihood = KenyaSerology.loglikelihood_contactratemodelBB_Peff),vec(death_data.deaths[:,death_data.areas .== upr_name])"
   ]
  }
 ],
 "metadata": {
  "kernelspec": {
   "display_name": "Julia 1.3.1",
   "language": "julia",
   "name": "julia-1.3"
  },
  "language_info": {
   "file_extension": ".jl",
   "mimetype": "application/julia",
   "name": "julia",
   "version": "1.3.1"
  }
 },
 "nbformat": 4,
 "nbformat_minor": 2
}
