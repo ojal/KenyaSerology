{
 "cells": [
  {
   "cell_type": "markdown",
   "metadata": {},
   "source": [
    "# Notebook 5: Inferring underlying parameters from data\n",
    "\n",
    "In notebook 4 we investigated the connection between the underlying transmission process model and observable events . However, the actual dynamical state of the epidemic in a Kenyan county is not observable, instead we observe events that related to infection like testing PCR-positive for the presence of SARS-CoV-2 genetic material (swab tests) or SARS-CoV-2 specific antibodies (serology tests). In this notebook we cover:\n",
    "\n",
    "* Translating the continuous time prediction of the ODE model into a discrete time prediction of daily infections.\n",
    "* The delay distributions between infection and an observable event:\n",
    "    - Time between infection and chance of being PCR detectable\n",
    "    - Time between infection and chance of being serologically detectable\n",
    "    - Time between infection and death, for those who die.\n",
    "* Combining the daily infections and the daily distributions to give daily estimates of the number of observable people who have been infected exist in the population.\n",
    "\n",
    "To start with solve the ODE problem for Nairobi using our posterior mean estimates, as we introduced in notebook 3."
   ]
  }
 ],
 "metadata": {
  "kernelspec": {
   "display_name": "Julia 1.3.1",
   "language": "julia",
   "name": "julia-1.3"
  },
  "language_info": {
   "file_extension": ".jl",
   "mimetype": "application/julia",
   "name": "julia",
   "version": "1.3.1"
  }
 },
 "nbformat": 4,
 "nbformat_minor": 2
}
