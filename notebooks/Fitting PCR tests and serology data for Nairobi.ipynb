{
 "cells": [
  {
   "cell_type": "markdown",
   "metadata": {},
   "source": [
    "# KeynaSerology example 1: Fitting test data for Nairobi\n",
    "In this notebook we give an example of using KenyaSerology to fit transmission and observation parameters for Nairobi using PCR postive swab data and serology test samples (organised by collection date), and Google mobility data. We cover:\n",
    "\n",
    "* Loading swab test, serology and death data.\n",
    "* Visualising the data.\n",
    "* Introducing the `CoVAreaModel` struct type, which contains the information needed to simulate transmission in the county and make inferences from the data.\n",
    "* Generating solutions to the transmission model for a defined set of parameters.\n",
    "* Running the inference method.\n",
    "\n",
    "The "
   ]
  },
  {
   "cell_type": "code",
   "execution_count": 2,
   "metadata": {},
   "outputs": [],
   "source": [
    "push!(LOAD_PATH, joinpath(homedir(),\"GitHub/KenyaSerology/src\"))\n",
    "using OrdinaryDiffEq,Distributions,Plots,\n",
    "        Dates,JLD2,Parameters,\n",
    "        TransformVariables, LogDensityProblems,\n",
    "        DynamicHMC, DynamicHMC.Diagnostics,MCMCDiagnostics,\n",
    "        Statistics, Random"
   ]
  },
  {
   "cell_type": "code",
   "execution_count": null,
   "metadata": {},
   "outputs": [],
   "source": []
  }
 ],
 "metadata": {
  "kernelspec": {
   "display_name": "Julia 1.3.1",
   "language": "julia",
   "name": "julia-1.3"
  },
  "language_info": {
   "file_extension": ".jl",
   "mimetype": "application/julia",
   "name": "julia",
   "version": "1.3.1"
  }
 },
 "nbformat": 4,
 "nbformat_minor": 2
}
