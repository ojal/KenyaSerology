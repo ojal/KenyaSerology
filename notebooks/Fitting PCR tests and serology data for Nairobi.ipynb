{
 "cells": [
  {
   "cell_type": "markdown",
   "metadata": {},
   "source": [
    "# Fitting test data for Nairobi: a KenyaSerology example\n",
    "\n",
    "In this notebook we give an example of using KenyaSerology to fit transmission and observation parameters for Nairobi using PCR postive swab data and serology test samples (organised by collection date), and Google mobility data."
   ]
  },
  {
   "cell_type": "code",
   "execution_count": null,
   "metadata": {},
   "outputs": [],
   "source": []
  }
 ],
 "metadata": {
  "kernelspec": {
   "display_name": "Julia 1.3.1",
   "language": "julia",
   "name": "julia-1.3"
  },
  "language_info": {
   "file_extension": ".jl",
   "mimetype": "application/julia",
   "name": "julia",
   "version": "1.3.1"
  }
 },
 "nbformat": 4,
 "nbformat_minor": 2
}
