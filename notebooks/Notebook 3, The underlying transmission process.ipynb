{
 "cells": [
  {
   "cell_type": "markdown",
   "metadata": {},
   "source": [
    "# Notebook 2: Solving the underlying transmission process\n",
    "\n",
    "In this notebook we look at the underlying transmission process described in the main paper, and how this is solved in Julia. The underlying ODE is represented and solved using the DifferentialEquations.jl package, and familiarity with that package would be useful at this point.\n",
    "\n",
    "The underlying transmission dynamics in each county was represented as an ODE:\n",
    "$$\n",
    "    \\dot{S}(t) = -{S(t)\\over P_{eff} N} \\gamma_t R_t I(t),\\\\ \n",
    "    \\dot{E}(t) = {S(t)\\over P_{eff} N} \\gamma_t R_t I(t) - \\sigma E(t),\\\\\n",
    "    \\dot{I}(t) = \\sigma E(t) - \\gamma I(t),\\\\\n",
    "    \\dot{R}(t) = \\gamma I(t),\\\\\n",
    "    \\dot{C}(t) = {S(t)\\over P_{eff} N} \\gamma_t R_t I(t).\n",
    "$$\n",
    "Where $1/\\sigma = 3.1$ days was the mean time between infection and infectiousness, and $1/\\gamma = 2.4$ days was chosen as the mean infectious period to match a 5.5 day serial interval. The system is a standard SEIR model with one exception: an *effective* population size of less than $N$ due to the effect of heterogeneity in the underlying population (also $S(0) = P_{eff} N - E(0) - I(0)$). The dynamic variable $C(t)$ tracks cumulative infections. $R_t = R_0 $"
   ]
  },
  {
   "cell_type": "code",
   "execution_count": null,
   "metadata": {},
   "outputs": [],
   "source": []
  }
 ],
 "metadata": {
  "kernelspec": {
   "display_name": "Julia 1.3.1",
   "language": "julia",
   "name": "julia-1.3"
  },
  "language_info": {
   "file_extension": ".jl",
   "mimetype": "application/julia",
   "name": "julia",
   "version": "1.3.1"
  }
 },
 "nbformat": 4,
 "nbformat_minor": 2
}
