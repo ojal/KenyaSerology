{
 "cells": [
  {
   "cell_type": "markdown",
   "metadata": {},
   "source": [
    "# Notebook 5: Inferring underlying parameters from data\n",
    "\n",
    "In notebook 4 we investigated the connection between the underlying transmission process model and observable events. \n",
    "However, we used posterior mean estimates for the unknown parameters of the model. In this notebook, we look at how the posterior distributions for the parameters were generated. In this notebook we cover:\n",
    "\n",
    "* The `CoVAreaModel` struct, this is the object that we use to contain available data for the county, and the log-likelihood model.\n",
    "* Defining the parameters of the model using the `TransformVariables` package.\n",
    "* Finding a good initialisation of the inference method.\n",
    "* Running the inference method (Hamiltonian MCMC), and adding the results to the `CoVAr\n",
    "\n",
    "To start with solve the ODE problem for Nairobi using our posterior mean estimates, as we introduced in notebook 3."
   ]
  }
 ],
 "metadata": {
  "kernelspec": {
   "display_name": "Julia 1.3.1",
   "language": "julia",
   "name": "julia-1.3"
  },
  "language_info": {
   "file_extension": ".jl",
   "mimetype": "application/julia",
   "name": "julia",
   "version": "1.3.1"
  }
 },
 "nbformat": 4,
 "nbformat_minor": 2
}
