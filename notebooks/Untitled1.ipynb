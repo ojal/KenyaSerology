{
 "cells": [
  {
   "cell_type": "code",
   "execution_count": 1,
   "metadata": {},
   "outputs": [
    {
     "name": "stderr",
     "output_type": "stream",
     "text": [
      "┌ Info: Precompiling CSV [336ed68f-0bac-5ca0-87d4-7b16caf5d00b]\n",
      "└ @ Base loading.jl:1278\n",
      "ERROR: LoadError: LoadError: UndefVarError: partitions not defined\n",
      "Stacktrace:\n",
      " [1] getproperty(::Module, ::Symbol) at ./Base.jl:26\n",
      " [2] top-level scope at /Users/Sam/.julia/packages/CSV/lIuxi/src/chunks.jl:87\n",
      " [3] include(::Function, ::Module, ::String) at ./Base.jl:380\n",
      " [4] include at ./Base.jl:368 [inlined]\n",
      " [5] include(::String) at /Users/Sam/.julia/packages/CSV/lIuxi/src/CSV.jl:1\n",
      " [6] top-level scope at /Users/Sam/.julia/packages/CSV/lIuxi/src/CSV.jl:30\n",
      " [7] include(::Function, ::Module, ::String) at ./Base.jl:380\n",
      " [8] include(::Module, ::String) at ./Base.jl:368\n",
      " [9] top-level scope at none:2\n",
      " [10] eval at ./boot.jl:331 [inlined]\n",
      " [11] eval(::Expr) at ./client.jl:467\n",
      " [12] top-level scope at ./none:3\n",
      "in expression starting at /Users/Sam/.julia/packages/CSV/lIuxi/src/chunks.jl:87\n",
      "in expression starting at /Users/Sam/.julia/packages/CSV/lIuxi/src/CSV.jl:30\n"
     ]
    },
    {
     "ename": "LoadError",
     "evalue": "Failed to precompile CSV [336ed68f-0bac-5ca0-87d4-7b16caf5d00b] to /Users/Sam/.julia/compiled/v1.5/CSV/HHBkp_2dlbm.ji.",
     "output_type": "error",
     "traceback": [
      "Failed to precompile CSV [336ed68f-0bac-5ca0-87d4-7b16caf5d00b] to /Users/Sam/.julia/compiled/v1.5/CSV/HHBkp_2dlbm.ji.",
      "",
      "Stacktrace:",
      " [1] error(::String) at ./error.jl:33",
      " [2] compilecache(::Base.PkgId, ::String) at ./loading.jl:1305",
      " [3] _require(::Base.PkgId) at ./loading.jl:1030",
      " [4] require(::Base.PkgId) at ./loading.jl:928",
      " [5] require(::Module, ::Symbol) at ./loading.jl:923",
      " [6] include_string(::Function, ::Module, ::String, ::String) at ./loading.jl:1091"
     ]
    }
   ],
   "source": [
    "using CSV"
   ]
  },
  {
   "cell_type": "code",
   "execution_count": null,
   "metadata": {},
   "outputs": [],
   "source": []
  }
 ],
 "metadata": {
  "kernelspec": {
   "display_name": "Julia 1.5.2",
   "language": "julia",
   "name": "julia-1.5"
  },
  "language_info": {
   "file_extension": ".jl",
   "mimetype": "application/julia",
   "name": "julia",
   "version": "1.5.2"
  }
 },
 "nbformat": 4,
 "nbformat_minor": 2
}
